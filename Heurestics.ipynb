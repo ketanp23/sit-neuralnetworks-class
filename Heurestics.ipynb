{
  "nbformat": 4,
  "nbformat_minor": 0,
  "metadata": {
    "colab": {
      "provenance": [],
      "authorship_tag": "ABX9TyMzI6nYp6HxKsUYRCbrL6/q",
      "include_colab_link": true
    },
    "kernelspec": {
      "name": "python3",
      "display_name": "Python 3"
    },
    "language_info": {
      "name": "python"
    }
  },
  "cells": [
    {
      "cell_type": "markdown",
      "metadata": {
        "id": "view-in-github",
        "colab_type": "text"
      },
      "source": [
        "<a href=\"https://colab.research.google.com/github/ketanp23/sit-neuralnetworks-class/blob/main/Heurestics.ipynb\" target=\"_parent\"><img src=\"https://colab.research.google.com/assets/colab-badge.svg\" alt=\"Open In Colab\"/></a>"
      ]
    },
    {
      "cell_type": "markdown",
      "source": [
        "Let's train a simple net on XOR (from last time) with heuristics: He init, Adam, BN, dropout."
      ],
      "metadata": {
        "id": "f2yNuPxTpDij"
      }
    },
    {
      "cell_type": "code",
      "execution_count": 1,
      "metadata": {
        "colab": {
          "base_uri": "https://localhost:8080/"
        },
        "id": "nAxo2Vcpo0GD",
        "outputId": "697dc786-2841-4686-8ab1-552f2a158773"
      },
      "outputs": [
        {
          "output_type": "stream",
          "name": "stdout",
          "text": [
            "tensor([[0.],\n",
            "        [1.],\n",
            "        [1.],\n",
            "        [0.]])\n"
          ]
        }
      ],
      "source": [
        "import torch\n",
        "import torch.nn as nn\n",
        "import torch.optim as optim\n",
        "\n",
        "# Data\n",
        "X = torch.tensor([[0,0], [0,1], [1,0], [1,1]], dtype=torch.float)\n",
        "y = torch.tensor([[0], [1], [1], [0]], dtype=torch.float)\n",
        "\n",
        "class ImprovedMLP(nn.Module):\n",
        "    def __init__(self):\n",
        "        super().__init__()\n",
        "        self.hidden = nn.Linear(2, 4)\n",
        "        self.bn = nn.BatchNorm1d(4)\n",
        "        self.dropout = nn.Dropout(0.2)\n",
        "        self.out = nn.Linear(4, 1)\n",
        "        self.apply(self.init_weights)\n",
        "\n",
        "    def init_weights(self, m):\n",
        "        if isinstance(m, nn.Linear):\n",
        "            nn.init.kaiming_normal_(m.weight, nonlinearity='relu')\n",
        "\n",
        "    def forward(self, x):\n",
        "        x = torch.relu(self.bn(self.hidden(x)))\n",
        "        x = self.dropout(x)\n",
        "        return torch.sigmoid(self.out(x))\n",
        "\n",
        "model = ImprovedMLP()\n",
        "optimizer = optim.Adam(model.parameters(), lr=0.01)\n",
        "criterion = nn.BCELoss()\n",
        "\n",
        "for epoch in range(5000):\n",
        "    optimizer.zero_grad()\n",
        "    output = model(X)\n",
        "    loss = criterion(output, y)\n",
        "    loss.backward()\n",
        "    optimizer.step()\n",
        "\n",
        "# Predictions (approximate after training)\n",
        "with torch.no_grad():\n",
        "    pred = model(X).round()\n",
        "    print(pred)  # Should be close to [[0], [1], [1], [0]]"
      ]
    },
    {
      "cell_type": "markdown",
      "source": [
        "These tweaks make training faster and more robust!"
      ],
      "metadata": {
        "id": "LXu3RriSpHDD"
      }
    }
  ]
}