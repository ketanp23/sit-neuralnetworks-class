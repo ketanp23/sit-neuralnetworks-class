{
  "nbformat": 4,
  "nbformat_minor": 0,
  "metadata": {
    "colab": {
      "provenance": [],
      "authorship_tag": "ABX9TyOXC8Mqm3WLnjpswuhu26b7",
      "include_colab_link": true
    },
    "kernelspec": {
      "name": "python3",
      "display_name": "Python 3"
    },
    "language_info": {
      "name": "python"
    }
  },
  "cells": [
    {
      "cell_type": "markdown",
      "metadata": {
        "id": "view-in-github",
        "colab_type": "text"
      },
      "source": [
        "<a href=\"https://colab.research.google.com/github/ketanp23/sit-neuralnetworks-class/blob/main/perceptron_convergence.ipynb\" target=\"_parent\"><img src=\"https://colab.research.google.com/assets/colab-badge.svg\" alt=\"Open In Colab\"/></a>"
      ]
    },
    {
      "cell_type": "markdown",
      "source": [
        "Train on separable data.\n",
        "What It Shows:\n",
        "Converges quickly. Try non-separable data (change y to [1,1,1,1])—it won't stop updating."
      ],
      "metadata": {
        "id": "z-n2ApDUd0cw"
      }
    },
    {
      "cell_type": "code",
      "execution_count": 1,
      "metadata": {
        "colab": {
          "base_uri": "https://localhost:8080/"
        },
        "id": "OPY00ZgFdquX",
        "outputId": "a89f23c2-fa47-46ab-8c3c-67a7bc2a9b12"
      },
      "outputs": [
        {
          "output_type": "stream",
          "name": "stdout",
          "text": [
            "Weights: [-0.1  0.1] Bias: 0.0\n",
            "Predictions: [ 1. -1.  1. -1.]\n"
          ]
        }
      ],
      "source": [
        "import numpy as np\n",
        "\n",
        "class Perceptron:\n",
        "    def __init__(self, learning_rate=0.1, n_iters=100):\n",
        "        self.lr = learning_rate\n",
        "        self.n_iters = n_iters\n",
        "        self.weights = None\n",
        "        self.bias = 0\n",
        "\n",
        "    def fit(self, X, y):\n",
        "        n_samples, n_features = X.shape\n",
        "        self.weights = np.zeros(n_features)\n",
        "        for _ in range(self.n_iters):\n",
        "            for idx, x_i in enumerate(X):\n",
        "                linear_output = np.dot(x_i, self.weights) + self.bias\n",
        "                y_pred = 1 if linear_output > 0 else -1\n",
        "                if y[idx] * linear_output <= 0:  # Misclassified\n",
        "                    self.weights += self.lr * y[idx] * x_i\n",
        "                    self.bias += self.lr * y[idx]\n",
        "\n",
        "    def predict(self, X):\n",
        "        linear_output = np.dot(X, self.weights) + self.bias\n",
        "        return np.sign(linear_output)\n",
        "\n",
        "# Example Data (separable)\n",
        "X = np.array([[1,2], [2,1], [3,4], [4,3]])\n",
        "y = np.array([1, -1, 1, -1])  # Above y=x is +1\n",
        "\n",
        "perc = Perceptron()\n",
        "perc.fit(X, y)\n",
        "print(\"Weights:\", perc.weights, \"Bias:\", perc.bias)  # Should be like [positive, negative]\n",
        "print(\"Predictions:\", perc.predict(X))  # [1, -1, 1, -1]"
      ]
    },
    {
      "cell_type": "code",
      "source": [],
      "metadata": {
        "id": "A21dL39Ld14s"
      },
      "execution_count": null,
      "outputs": []
    }
  ]
}