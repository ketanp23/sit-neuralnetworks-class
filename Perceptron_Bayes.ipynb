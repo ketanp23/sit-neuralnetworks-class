{
  "nbformat": 4,
  "nbformat_minor": 0,
  "metadata": {
    "colab": {
      "provenance": [],
      "authorship_tag": "ABX9TyPxNw37fF6b+g2RY1N8Uejx",
      "include_colab_link": true
    },
    "kernelspec": {
      "name": "python3",
      "display_name": "Python 3"
    },
    "language_info": {
      "name": "python"
    }
  },
  "cells": [
    {
      "cell_type": "markdown",
      "metadata": {
        "id": "view-in-github",
        "colab_type": "text"
      },
      "source": [
        "<a href=\"https://colab.research.google.com/github/ketanp23/sit-neuralnetworks-class/blob/main/Perceptron_Bayes.ipynb\" target=\"_parent\"><img src=\"https://colab.research.google.com/assets/colab-badge.svg\" alt=\"Open In Colab\"/></a>"
      ]
    },
    {
      "cell_type": "markdown",
      "source": [
        "Both models learn similar linear separators. Accuracies close (e.g., 0.95 vs. 0.97). Perceptron approximates Bayes."
      ],
      "metadata": {
        "id": "PcsyoKViibGo"
      }
    },
    {
      "cell_type": "code",
      "execution_count": 1,
      "metadata": {
        "colab": {
          "base_uri": "https://localhost:8080/"
        },
        "id": "HgHZlCkWh1Wp",
        "outputId": "8cb7ab77-accd-4bd3-db85-3f1c2439f242"
      },
      "outputs": [
        {
          "output_type": "stream",
          "name": "stdout",
          "text": [
            "Perceptron Accuracy: 0.95\n",
            "Bayes (LDA) Accuracy: 0.975\n"
          ]
        }
      ],
      "source": [
        "import numpy as np\n",
        "from sklearn.linear_model import Perceptron\n",
        "from sklearn.discriminant_analysis import LinearDiscriminantAnalysis\n",
        "from sklearn.model_selection import train_test_split\n",
        "from sklearn.metrics import accuracy_score\n",
        "import matplotlib.pyplot as plt\n",
        "\n",
        "# Generate Gaussian data\n",
        "np.random.seed(42)\n",
        "mean0 = [0, 0]; cov = [[1, 0], [0, 1]]\n",
        "X0 = np.random.multivariate_normal(mean0, cov, 100)\n",
        "mean1 = [2, 2]\n",
        "X1 = np.random.multivariate_normal(mean1, cov, 100)\n",
        "X = np.vstack((X0, X1))\n",
        "y = np.hstack((np.zeros(100), np.ones(100)))\n",
        "\n",
        "# Split data\n",
        "X_train, X_test, y_train, y_test = train_test_split(X, y, test_size=0.2)\n",
        "\n",
        "# Perceptron\n",
        "perc = Perceptron(max_iter=1000)\n",
        "perc.fit(X_train, y_train)\n",
        "y_pred_perc = perc.predict(X_test)\n",
        "print(\"Perceptron Accuracy:\", accuracy_score(y_test, y_pred_perc))\n",
        "\n",
        "# Bayes (LDA)\n",
        "lda = LinearDiscriminantAnalysis()\n",
        "lda.fit(X_train, y_train)\n",
        "y_pred_lda = lda.predict(X_test)\n",
        "print(\"Bayes (LDA) Accuracy:\", accuracy_score(y_test, y_pred_lda))\n",
        "\n",
        "# Plot boundaries (optional)\n",
        "# ... (code to plot decision boundaries)"
      ]
    }
  ]
}