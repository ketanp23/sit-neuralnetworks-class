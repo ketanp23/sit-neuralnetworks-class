{
  "nbformat": 4,
  "nbformat_minor": 0,
  "metadata": {
    "colab": {
      "provenance": [],
      "authorship_tag": "ABX9TyMOvnv0+DczFH6aMDicfwP1",
      "include_colab_link": true
    },
    "kernelspec": {
      "name": "python3",
      "display_name": "Python 3"
    },
    "language_info": {
      "name": "python"
    }
  },
  "cells": [
    {
      "cell_type": "markdown",
      "metadata": {
        "id": "view-in-github",
        "colab_type": "text"
      },
      "source": [
        "<a href=\"https://colab.research.google.com/github/ketanp23/sit-neuralnetworks-class/blob/main/Mcculloh_Pits_Neuron.ipynb\" target=\"_parent\"><img src=\"https://colab.research.google.com/assets/colab-badge.svg\" alt=\"Open In Colab\"/></a>"
      ]
    },
    {
      "cell_type": "markdown",
      "source": [
        "This code defines and uses a simple McCulloch-Pitts neuron model using TensorFlow.\n",
        "\n",
        "Here's a breakdown:\n",
        "\n",
        "import tensorflow as tf: Imports the TensorFlow library, which is used for numerical computation and is particularly well-suited for machine learning tasks.\n",
        "\n",
        "def mcculloh_pits_neuron(inputs, weights, threshold):: This defines a Python function named mcculloh_pits_neuron that takes three arguments:\n",
        "inputs: A list or tensor of input values.\n",
        "weights: A list or tensor of weights corresponding to each input.\n",
        "threshold: A single value representing the activation threshold.\n",
        "weighted_sum = tf.reduce_sum(tf.multiply(inputs, weights)):\n",
        "\n",
        "\n",
        "tf.multiply(inputs, weights): This performs element-wise multiplication of the inputs tensor and the weights tensor.\n",
        "tf.reduce_sum(...): This calculates the sum of all elements in the resulting tensor from the multiplication. This is the weighted sum of the inputs.\n",
        "output = tf.cond(weighted_sum >= threshold, lambda: 1.0, lambda: 0.0): This is the activation function.\n",
        "tf.cond(...): This is a TensorFlow conditional operation. It evaluates the first argument (weighted_sum >= threshold).\n",
        "lambda: 1.0: If the condition is true (the weighted sum is greater than or equal to the threshold), the output is 1.0.\n",
        "lambda: 0.0: If the condition is false (the weighted sum is less than the threshold), the output is 0.0. This implements a simple step function: the neuron \"fires\" (output is 1) if the weighted sum meets or exceeds the threshold, and it doesn't \"fire\" (output is 0) otherwise.\n",
        "return output: The function returns the calculated output of the neuron (either 1.0 or 0.0).\n",
        "\n",
        "inputs = tf.constant([0.5, 0.3, 0.8], dtype=tf.float32): Creates a TensorFlow constant tensor named inputs with the values [0.5, 0.3, 0.8] and specifies the data type as 32-bit floating point.\n",
        "\n",
        "weights = tf.constant([0.2, 0.4, 0.6], dtype=tf.float32): Creates a TensorFlow constant tensor named weights with the values [0.2, 0.4, 0.6] and specifies the data type as 32-bit floating point.\n",
        "\n",
        "threshold = tf.constant(0.7, dtype=tf.float32): Creates a TensorFlow constant scalar tensor named threshold with the value 0.7 and specifies the data type as 32-bit floating point.\n",
        "\n",
        "output = mcculloh_pits_neuron(inputs, weights, threshold): Calls the mcculloh_pits_neuron function with the defined inputs, weights, and threshold and stores the returned output in the output variable.\n",
        "print(\"output\", output): Prints the label \"output\" followed by the value of the output variable.\n",
        "\n",
        "In essence, this code simulates a single artificial neuron that performs a basic calculation: it multiplies inputs by their corresponding weights, sums these products, and then compares the result to a threshold to produce a binary output (0 or 1)."
      ],
      "metadata": {
        "id": "H4LJXOltj2gB"
      }
    },
    {
      "cell_type": "code",
      "execution_count": 1,
      "metadata": {
        "colab": {
          "base_uri": "https://localhost:8080/"
        },
        "id": "TeVPLcOYh-rO",
        "outputId": "53dc386e-0c92-4fa1-a520-e5914250cb83"
      },
      "outputs": [
        {
          "output_type": "stream",
          "name": "stdout",
          "text": [
            "tf.Tensor(0.70000005, shape=(), dtype=float32)\n",
            "output 1.0\n"
          ]
        }
      ],
      "source": [
        "import tensorflow as tf\n",
        "def mcculloh_pits_neuron(inputs,weights,threshold):\n",
        "    weighted_sum = tf.reduce_sum(tf.multiply(inputs,weights))\n",
        "    print(weighted_sum)\n",
        "    output = tf.cond(weighted_sum >= threshold,lambda:1.0,lambda:0.0)\n",
        "    return output\n",
        "\n",
        "inputs = tf.constant([0.5,0.3,0.8],dtype=tf.float32)\n",
        "weights = tf.constant([0.2,0.4,0.6],dtype=tf.float32)\n",
        "threshold = tf.constant(0.7,dtype=tf.float32)\n",
        "output = mcculloh_pits_neuron(inputs,weights,threshold)\n",
        "print(\"output\",output)"
      ]
    },
    {
      "cell_type": "code",
      "source": [],
      "metadata": {
        "id": "jaj0HbFOkpe1"
      },
      "execution_count": null,
      "outputs": []
    }
  ]
}