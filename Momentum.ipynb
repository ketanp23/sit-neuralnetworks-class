{
  "nbformat": 4,
  "nbformat_minor": 0,
  "metadata": {
    "colab": {
      "provenance": [],
      "authorship_tag": "ABX9TyOgBDPQLTm8dDLbT+aQs6M2",
      "include_colab_link": true
    },
    "kernelspec": {
      "name": "python3",
      "display_name": "Python 3"
    },
    "language_info": {
      "name": "python"
    }
  },
  "cells": [
    {
      "cell_type": "markdown",
      "metadata": {
        "id": "view-in-github",
        "colab_type": "text"
      },
      "source": [
        "<a href=\"https://colab.research.google.com/github/ketanp23/sit-neuralnetworks-class/blob/main/Momentum.ipynb\" target=\"_parent\"><img src=\"https://colab.research.google.com/assets/colab-badge.svg\" alt=\"Open In Colab\"/></a>"
      ]
    },
    {
      "cell_type": "markdown",
      "source": [
        "Minimize f(x) = x² again, but with momentum to speed it up.\n",
        "Key Insight:\n",
        "Fewer iterations needed compared to basic GD—velocity builds up!"
      ],
      "metadata": {
        "id": "02flRtU8KF1X"
      }
    },
    {
      "cell_type": "code",
      "execution_count": 10,
      "metadata": {
        "colab": {
          "base_uri": "https://localhost:8080/"
        },
        "id": "pm3kavWbKEB-",
        "outputId": "8a2838c0-17be-4dbc-84cd-4d0a8a1780db"
      },
      "outputs": [
        {
          "output_type": "stream",
          "name": "stdout",
          "text": [
            "Minimum with Momentum: 0.02114056859064261\n"
          ]
        }
      ],
      "source": [
        "import numpy as np\n",
        "\n",
        "def momentum_gd(starting_x, learning_rate=0.01, momentum=0.9, iterations=100):\n",
        "    x = starting_x\n",
        "    velocity = 0\n",
        "    for _ in range(iterations):\n",
        "        gradient = 2 * x\n",
        "        velocity = momentum * velocity - learning_rate * gradient\n",
        "        x += velocity\n",
        "    return x\n",
        "\n",
        "# Run it\n",
        "start_x = 5\n",
        "minimum = momentum_gd(start_x)\n",
        "print(\"Minimum with Momentum:\", minimum)  # Reaches 0 faster than plain GD"
      ]
    }
  ]
}