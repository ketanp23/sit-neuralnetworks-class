{
  "nbformat": 4,
  "nbformat_minor": 0,
  "metadata": {
    "colab": {
      "provenance": [],
      "authorship_tag": "ABX9TyPwdqSxS8Z1SkP8cJwGNuwK",
      "include_colab_link": true
    },
    "kernelspec": {
      "name": "python3",
      "display_name": "Python 3"
    },
    "language_info": {
      "name": "python"
    }
  },
  "cells": [
    {
      "cell_type": "markdown",
      "metadata": {
        "id": "view-in-github",
        "colab_type": "text"
      },
      "source": [
        "<a href=\"https://colab.research.google.com/github/ketanp23/sit-neuralnetworks-class/blob/main/Gradient_Descent.ipynb\" target=\"_parent\"><img src=\"https://colab.research.google.com/assets/colab-badge.svg\" alt=\"Open In Colab\"/></a>"
      ]
    },
    {
      "cell_type": "markdown",
      "source": [
        "What Happens:\n",
        "Starts at (5,3), computes slope, steps toward (0,0). After 100 steps, it's very close!\n",
        "\n",
        "import numpy as np: This line imports the NumPy library, which is used for numerical operations, particularly array manipulation.\n",
        "\n",
        "def gradient_descent(...): This defines a function named gradient_descent that takes three arguments:\n",
        "\n",
        "starting_point: A list or array representing the initial guess for the minimum.\n",
        "\n",
        "learning_rate: A number controlling how large each step is towards the minimum. A smaller learning rate means smaller steps.\n",
        "\n",
        "iterations: An integer representing the number of steps to take.\n",
        "\n",
        "point = np.array(starting_point): Converts the starting_point list into a NumPy array.\n",
        "\n",
        "for _ in range(iterations):: This loop runs for the specified number of iterations.\n",
        "\n",
        "gradient = 2 * point: This is the core of the gradient descent algorithm. It calculates the gradient of the function f(x, y) = x² + y² at the current point. The gradient points in the direction of the steepest increase of the function.\n",
        "\n",
        "In this case, the gradient is simply [2x, 2y].\n",
        "\n",
        "point = point - learning_rate * gradient: This line updates the point. It moves the point in the opposite direction of the gradient (towards the steepest decrease) by an amount determined by the learning_rate.\n",
        "\n",
        "return point: After all iterations, the function returns the final point, which should be close to the minimum of the function.\n",
        "\n",
        "start = [5, 3]: Sets the starting point for the algorithm.\n",
        "\n",
        "minimum = gradient_descent(start): Calls the gradient_descent function with the starting point and default values for learning rate and iterations, storing the result in the minimum variable.\n",
        "\n",
        "print(...): Prints the calculated approximate minimum.\n",
        "\n",
        "The code effectively takes small steps in the direction of the steepest decrease of the function f(x, y) = x² + y² until it reaches a point very close to the actual minimum, which is at (0, 0).\n",
        "\n"
      ],
      "metadata": {
        "id": "2I7-8fjvHR2e"
      }
    },
    {
      "cell_type": "code",
      "execution_count": 1,
      "metadata": {
        "colab": {
          "base_uri": "https://localhost:8080/"
        },
        "id": "xtN8QtgQHRbZ",
        "outputId": "1ae6cf66-62a3-46ac-c2c6-eac0d87142d6"
      },
      "outputs": [
        {
          "output_type": "stream",
          "name": "stdout",
          "text": [
            "Approximate minimum: [1.01851799e-09 6.11110793e-10]\n"
          ]
        }
      ],
      "source": [
        "import numpy as np\n",
        "\n",
        "def gradient_descent(starting_point, learning_rate=0.1, iterations=100):\n",
        "    point = np.array(starting_point)\n",
        "    for _ in range(iterations):\n",
        "        gradient = 2 * point  # Derivative of x² + y² is (2x, 2y)\n",
        "        point = point - learning_rate * gradient\n",
        "    return point\n",
        "\n",
        "# Run it\n",
        "start = [5, 3]  # Starting far from minimum\n",
        "minimum = gradient_descent(start)\n",
        "print(\"Approximate minimum:\", minimum)  # Should be close to [0, 0]"
      ]
    }
  ]
}