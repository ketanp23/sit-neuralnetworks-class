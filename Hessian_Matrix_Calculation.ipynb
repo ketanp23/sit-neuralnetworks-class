{
  "cells": [
    {
      "cell_type": "markdown",
      "metadata": {
        "id": "view-in-github",
        "colab_type": "text"
      },
      "source": [
        "<a href=\"https://colab.research.google.com/github/ketanp23/sit-neuralnetworks-class/blob/main/Hessian_Matrix_Calculation.ipynb\" target=\"_parent\"><img src=\"https://colab.research.google.com/assets/colab-badge.svg\" alt=\"Open In Colab\"/></a>"
      ]
    },
    {
      "cell_type": "code",
      "source": [
        "import torch\n",
        "from torch.autograd.functional import hessian\n",
        "\n",
        "# --- 1. Define the Scalar Function ---\n",
        "# We define a simple function f(x, y) = x^3 + 2y^2 + 5xy\n",
        "# The input to this function will be a 1D tensor [x, y].\n",
        "def simple_scalar_function(input_tensor):\n",
        "    \"\"\"\n",
        "    Computes f(x, y) where input_tensor = [x, y]\n",
        "    f(x, y) = x^3 + 2y^2 + 5xy\n",
        "    \"\"\"\n",
        "    x = input_tensor[0]\n",
        "    y = input_tensor[1]\n",
        "\n",
        "    # Calculation: x^3 + 2*y^2 + 5*x*y\n",
        "    return x.pow(3) + 2 * y.pow(2) + 5 * x * y\n",
        "\n",
        "# --- 2. Define the Point for Calculation ---\n",
        "# We want to calculate the Hessian at the point (x=1.0, y=2.0)\n",
        "point_of_interest = torch.tensor([1.0, 2.0], dtype=torch.float32, requires_grad=True)\n",
        "\n",
        "# --- 3. Compute the Hessian Matrix ---\n",
        "# The hessian function computes the square matrix of second-order partial derivatives.\n",
        "# The matrix H will be:\n",
        "# [[ d^2f/dx^2, d^2f/dxdy ],\n",
        "#  [ d^2f/dydx, d^2f/dy^2 ]]\n",
        "try:\n",
        "    # Compute the Hessian using PyTorch's automatic differentiation\n",
        "    hessian_matrix = hessian(simple_scalar_function, point_of_interest)\n",
        "\n",
        "    # --- 4. Print Output and Explanation ---\n",
        "    print(f\"--- Hessian Matrix Calculation Example ---\")\n",
        "    print(f\"Function f(x, y) = x^3 + 2y^2 + 5xy\")\n",
        "    print(f\"Point of Interest (x, y): {point_of_interest.tolist()}\")\n",
        "    print(\"-\" * 40)\n",
        "\n",
        "    # Analytical Derivatives for Verification:\n",
        "    # First derivatives:\n",
        "    # df/dx = 3x^2 + 5y\n",
        "    # df/dy = 4y + 5x\n",
        "\n",
        "    # Second derivatives (The Hessian components):\n",
        "    # d^2f/dx^2 = 6x\n",
        "    # d^2f/dy^2 = 4\n",
        "    # d^2f/dxdy = 5\n",
        "    # d^2f/dydx = 5 (due to Clairaut's Theorem, this must be 5)\n",
        "\n",
        "    # At point (1.0, 2.0):\n",
        "    # d^2f/dx^2 = 6 * 1.0 = 6.0\n",
        "    # d^2f/dy^2 = 4\n",
        "    # d^2f/dxdy = 5\n",
        "    # d^2f/dydx = 5\n",
        "\n",
        "    print(\"Expected Hessian Matrix (Analytical):\")\n",
        "    print(\"[[ 6.0, 5.0 ],\")\n",
        "    print(\" [ 5.0, 4.0 ]]\")\n",
        "    print(\"-\" * 40)\n",
        "\n",
        "    print(\"Calculated Hessian Matrix (PyTorch):\")\n",
        "    print(hessian_matrix)\n",
        "\n",
        "except Exception as e:\n",
        "    print(f\"An error occurred during Hessian computation: {e}\")"
      ],
      "outputs": [
        {
          "output_type": "stream",
          "name": "stdout",
          "text": [
            "--- Hessian Matrix Calculation Example ---\n",
            "Function f(x, y) = x^3 + 2y^2 + 5xy\n",
            "Point of Interest (x, y): [1.0, 2.0]\n",
            "----------------------------------------\n",
            "Expected Hessian Matrix (Analytical):\n",
            "[[ 6.0, 5.0 ],\n",
            " [ 5.0, 4.0 ]]\n",
            "----------------------------------------\n",
            "Calculated Hessian Matrix (PyTorch):\n",
            "tensor([[6., 5.],\n",
            "        [5., 4.]])\n"
          ]
        }
      ],
      "execution_count": 1,
      "metadata": {
        "colab": {
          "base_uri": "https://localhost:8080/"
        },
        "id": "tfmLA807ZIuE",
        "outputId": "a3bd12cd-8d91-4b94-80a9-8f94aea49bd9"
      }
    }
  ],
  "metadata": {
    "colab": {
      "provenance": [],
      "include_colab_link": true
    },
    "kernelspec": {
      "display_name": "Python 3",
      "name": "python3"
    }
  },
  "nbformat": 4,
  "nbformat_minor": 0
}