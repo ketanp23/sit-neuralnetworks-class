{
  "nbformat": 4,
  "nbformat_minor": 0,
  "metadata": {
    "colab": {
      "provenance": [],
      "authorship_tag": "ABX9TyNIEnlS0S4/N9/TlYJNUcSJ",
      "include_colab_link": true
    },
    "kernelspec": {
      "name": "python3",
      "display_name": "Python 3"
    },
    "language_info": {
      "name": "python"
    }
  },
  "cells": [
    {
      "cell_type": "markdown",
      "metadata": {
        "id": "view-in-github",
        "colab_type": "text"
      },
      "source": [
        "<a href=\"https://colab.research.google.com/github/ketanp23/sit-neuralnetworks-class/blob/main/Adam.ipynb\" target=\"_parent\"><img src=\"https://colab.research.google.com/assets/colab-badge.svg\" alt=\"Open In Colab\"/></a>"
      ]
    },
    {
      "cell_type": "markdown",
      "source": [
        "Simple 1D version for f(x) = x².\n",
        "Adapts automatically—no need to tune learning rate much."
      ],
      "metadata": {
        "id": "_NZs_bHkLFfl"
      }
    },
    {
      "cell_type": "code",
      "execution_count": 1,
      "metadata": {
        "colab": {
          "base_uri": "https://localhost:8080/"
        },
        "id": "h0gZM45PLAbQ",
        "outputId": "0b89fd31-3933-4e33-b3aa-9bf5a94848cc"
      },
      "outputs": [
        {
          "output_type": "stream",
          "name": "stdout",
          "text": [
            "Minimum with Adam: -0.03900403122391936\n"
          ]
        }
      ],
      "source": [
        "import numpy as np\n",
        "\n",
        "def adam(starting_x, learning_rate=0.1, beta1=0.9, beta2=0.999, epsilon=1e-8, iterations=100):\n",
        "    x = starting_x\n",
        "    m = 0  # First moment\n",
        "    v = 0  # Second moment\n",
        "    t = 0\n",
        "    for _ in range(iterations):\n",
        "        t += 1\n",
        "        gradient = 2 * x\n",
        "        m = beta1 * m + (1 - beta1) * gradient\n",
        "        v = beta2 * v + (1 - beta2) * (gradient ** 2)\n",
        "        m_hat = m / (1 - beta1 ** t)\n",
        "        v_hat = v / (1 - beta2 ** t)\n",
        "        x -= learning_rate * m_hat / (np.sqrt(v_hat) + epsilon)\n",
        "    return x\n",
        "\n",
        "# Run it\n",
        "start_x = 5\n",
        "minimum = adam(start_x)\n",
        "print(\"Minimum with Adam:\", minimum)  # Efficiently reaches near 0"
      ]
    },
    {
      "cell_type": "code",
      "source": [],
      "metadata": {
        "id": "IFluBpEqLIQ1"
      },
      "execution_count": null,
      "outputs": []
    }
  ]
}