{
  "nbformat": 4,
  "nbformat_minor": 0,
  "metadata": {
    "colab": {
      "provenance": [],
      "authorship_tag": "ABX9TyN/gZx+64+6iQhozi0U6iU8",
      "include_colab_link": true
    },
    "kernelspec": {
      "name": "python3",
      "display_name": "Python 3"
    },
    "language_info": {
      "name": "python"
    }
  },
  "cells": [
    {
      "cell_type": "markdown",
      "metadata": {
        "id": "view-in-github",
        "colab_type": "text"
      },
      "source": [
        "<a href=\"https://colab.research.google.com/github/ketanp23/sit-neuralnetworks-class/blob/main/LMS_Filter.ipynb\" target=\"_parent\"><img src=\"https://colab.research.google.com/assets/colab-badge.svg\" alt=\"Open In Colab\"/></a>"
      ]
    },
    {
      "cell_type": "markdown",
      "source": [
        "Same noisy sine wave, but adaptively filter it without knowing noise stats.\n",
        "\n",
        "Insight:\n",
        "Weights adapt, error decreases. This is like a single-neuron neural net training with stochastic gradient descent."
      ],
      "metadata": {
        "id": "IpC6ehRrP9hk"
      }
    },
    {
      "cell_type": "code",
      "execution_count": 1,
      "metadata": {
        "colab": {
          "base_uri": "https://localhost:8080/"
        },
        "id": "1Ei2TMOJPmU8",
        "outputId": "edc9472a-cc10-4489-cfdc-ee0f79173a54"
      },
      "outputs": [
        {
          "output_type": "stream",
          "name": "stdout",
          "text": [
            "First 5 filtered values: [0.00073622 0.0021534  0.01609686 0.0296192  0.07001399]\n"
          ]
        }
      ],
      "source": [
        "import numpy as np\n",
        "\n",
        "# Data\n",
        "t = np.linspace(0, 10, 100)\n",
        "desired = np.sin(t)  # Assume we have desired for training\n",
        "input_signal = desired + np.random.normal(0, 0.5, len(t))  # Noisy\n",
        "\n",
        "# LMS setup: Filter order M=3\n",
        "M = 3\n",
        "mu = 0.01  # Learning rate\n",
        "w = np.zeros(M)  # Initial weights\n",
        "filtered = np.zeros(len(t))\n",
        "\n",
        "for i in range(M, len(t)):\n",
        "    x = input_signal[i-M:i][::-1]  # Input window\n",
        "    y = np.dot(w, x)  # Filter output\n",
        "    error = desired[i] - y\n",
        "    w += mu * error * x  # Update\n",
        "    filtered[i] = y\n",
        "\n",
        "print(\"First 5 filtered values:\", filtered[5:10])  # Improves over time"
      ]
    }
  ]
}