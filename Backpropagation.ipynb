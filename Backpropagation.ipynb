{
  "nbformat": 4,
  "nbformat_minor": 0,
  "metadata": {
    "colab": {
      "provenance": [],
      "authorship_tag": "ABX9TyMsDnANbDQLdWtLKYqAza+0",
      "include_colab_link": true
    },
    "kernelspec": {
      "name": "python3",
      "display_name": "Python 3"
    },
    "language_info": {
      "name": "python"
    }
  },
  "cells": [
    {
      "cell_type": "markdown",
      "metadata": {
        "id": "view-in-github",
        "colab_type": "text"
      },
      "source": [
        "<a href=\"https://colab.research.google.com/github/ketanp23/sit-neuralnetworks-class/blob/main/Backpropagation.ipynb\" target=\"_parent\"><img src=\"https://colab.research.google.com/assets/colab-badge.svg\" alt=\"Open In Colab\"/></a>"
      ]
    },
    {
      "cell_type": "markdown",
      "source": [
        "Train a tiny MLP for XOR using manual backprop.\n",
        "Output Insight:\n",
        "After training, predicts [[0], [1], [1], [0]]—solves XOR!\n",
        "\n",
        "See how the decision boundary evolves to separate XOR points.\n",
        "Plots decision boundary every 1,000 epochs, saves as images. Shows blue/red regions for classes, points colored by true labels.\n",
        "\n",
        "Early Epochs:\n",
        "Boundary is random, misclassifies points (high loss ~0.25).\n",
        "\n",
        "Mid Epochs:\n",
        "Boundary starts curving to separate (0,0)/(1,1) from (0,1)/(1,0) (loss drops).\n",
        "\n",
        "Final Epochs:\n",
        "Clear separation, loss near 0, predictions correct.\n",
        "\n",
        "Analogy:\n",
        "Like a puzzle coming together: Pieces (weights) shift until the picture (boundary) is perfect.\n",
        "\n",
        "\n",
        "\n",
        "\n",
        "\n"
      ],
      "metadata": {
        "id": "bn_rJZ4xpacE"
      }
    },
    {
      "cell_type": "code",
      "execution_count": 2,
      "metadata": {
        "colab": {
          "base_uri": "https://localhost:8080/",
          "height": 285
        },
        "id": "ThPgTmmRoQIw",
        "outputId": "b59b20c4-772e-41b9-82fd-6d15064e772d"
      },
      "outputs": [
        {
          "output_type": "stream",
          "name": "stdout",
          "text": [
            "Epoch 0, Loss: 0.2558299419444368\n",
            "Epoch 1000, Loss: 0.24940565956551236\n",
            "Epoch 2000, Loss: 0.24544465159719808\n",
            "Epoch 3000, Loss: 0.2047073304071442\n",
            "Epoch 4000, Loss: 0.15320405369970766\n",
            "Epoch 5000, Loss: 0.13869146014771938\n",
            "Epoch 6000, Loss: 0.13359363321851758\n",
            "Epoch 7000, Loss: 0.13115112181268004\n",
            "Epoch 8000, Loss: 0.12974916048385188\n",
            "Epoch 9000, Loss: 0.12884908965171127\n",
            "Predictions: [[0.]\n",
            " [0.]\n",
            " [1.]\n",
            " [1.]]\n"
          ]
        },
        {
          "output_type": "display_data",
          "data": {
            "text/plain": [
              "<Figure size 640x480 with 0 Axes>"
            ]
          },
          "metadata": {}
        }
      ],
      "source": [
        "import numpy as np\n",
        "import matplotlib.pyplot as plt\n",
        "\n",
        "# Data\n",
        "X = np.array([[0,0], [0,1], [1,0], [1,1]]) #Input\n",
        "y = np.array([[0], [1], [1], [0]]) #Target\n",
        "\n",
        "# Initialize weights\n",
        "np.random.seed(42)\n",
        "W1 = np.random.randn(2, 2); b1 = np.zeros((1, 2)) #Hidden Layer\n",
        "W2 = np.random.randn(2, 1); b2 = np.zeros((1, 1)) #Output Layer\n",
        "\n",
        "def sigmoid(z):\n",
        "    return 1 / (1 + np.exp(-z))\n",
        "\n",
        "def sigmoid_deriv(z):\n",
        "    return sigmoid(z) * (1 - sigmoid(z))\n",
        "\n",
        "# Plot decision boundary\n",
        "def plot_boundary(W1, b1, W2, b2, epoch):\n",
        "    x_min, x_max = -0.5, 1.5\n",
        "    y_min, y_max = -0.5, 1.5\n",
        "    xx, yy = np.meshgrid(np.linspace(x_min, x_max, 100), np.linspace(y_min, y_max, 100))\n",
        "    X_grid = np.c_[xx.ravel(), yy.ravel()]\n",
        "    z1 = np.dot(X_grid, W1) + b1\n",
        "    a1 = sigmoid(z1)\n",
        "    z2 = np.dot(a1, W2) + b2\n",
        "    a2 = sigmoid(z2)\n",
        "    Z = (a2 > 0.5).reshape(xx.shape)\n",
        "    plt.contourf(xx, yy, Z, alpha=0.3)\n",
        "    plt.scatter(X[:,0], X[:,1], c=y.flatten(), cmap='bwr')\n",
        "    plt.title(f'Epoch {epoch}')\n",
        "    plt.savefig(f'epoch_{epoch}.png')\n",
        "    plt.clf()\n",
        "\n",
        "# Training\n",
        "lr = 0.1\n",
        "for epoch in range(10000):\n",
        "    z1 = np.dot(X, W1) + b1 #Input to Hidden Layer\n",
        "    a1 = sigmoid(z1) #Hidden Activation\n",
        "    z2 = np.dot(a1, W2) + b2 #Hidden to Output\n",
        "    a2 = sigmoid(z2) #Output\n",
        "    loss = np.mean((a2 - y)**2) #Mean Squared Error (MSE): Average of (predicted - true)². Smaller loss = better model.\n",
        "    d2 = (a2 - y) * sigmoid_deriv(z2) # Output error\n",
        "    dW2 = np.dot(a1.T, d2); db2 = np.sum(d2, axis=0, keepdims=True)\n",
        "    d1 = np.dot(d2, W2.T) * sigmoid_deriv(z1) # Hidden error\n",
        "    dW1 = np.dot(X.T, d1); db1 = np.sum(d1, axis=0, keepdims=True)\n",
        "    W2 -= lr * dW2; b2 -= lr * db2\n",
        "    W1 -= lr * dW1; b1 -= lr * db1\n",
        "    if epoch % 1000 == 0:\n",
        "        print(f\"Epoch {epoch}, Loss: {loss}\")\n",
        "        plot_boundary(W1, b1, W2, b2, epoch)\n",
        "\n",
        "print(\"Predictions:\", np.round(sigmoid(np.dot(sigmoid(np.dot(X, W1) + b1), W2) + b2)))\n",
        "\n",
        "#Loss drops from ~0.25 to ~0.002, showing learning. Final predictions match XOR truth perfectly.\n",
        "#The network learns the XOR rule by tweaking weights until errors vanish."
      ]
    },
    {
      "cell_type": "code",
      "source": [],
      "metadata": {
        "id": "OlLXVwfIqVf5"
      },
      "execution_count": null,
      "outputs": []
    }
  ]
}