{
  "nbformat": 4,
  "nbformat_minor": 0,
  "metadata": {
    "colab": {
      "provenance": [],
      "gpuType": "T4",
      "authorship_tag": "ABX9TyOtRF3rR8+xKyl2ZMvRZgAK",
      "include_colab_link": true
    },
    "kernelspec": {
      "name": "python3",
      "display_name": "Python 3"
    },
    "language_info": {
      "name": "python"
    },
    "accelerator": "GPU"
  },
  "cells": [
    {
      "cell_type": "markdown",
      "metadata": {
        "id": "view-in-github",
        "colab_type": "text"
      },
      "source": [
        "<a href=\"https://colab.research.google.com/github/ketanp23/sit-neuralnetworks-class/blob/main/XORProblem.ipynb\" target=\"_parent\"><img src=\"https://colab.research.google.com/assets/colab-badge.svg\" alt=\"Open In Colab\"/></a>"
      ]
    },
    {
      "cell_type": "markdown",
      "source": [
        "Single-Layer Failure"
      ],
      "metadata": {
        "id": "IwIK_dU2hLTS"
      }
    },
    {
      "cell_type": "code",
      "execution_count": 1,
      "metadata": {
        "colab": {
          "base_uri": "https://localhost:8080/"
        },
        "id": "zNUFoQB6hKNM",
        "outputId": "96e4c8f5-67d6-4516-bafa-01bc292da239"
      },
      "outputs": [
        {
          "output_type": "stream",
          "name": "stdout",
          "text": [
            "Predictions: tensor([[0.5000],\n",
            "        [0.5000],\n",
            "        [0.5000],\n",
            "        [0.5000]])\n",
            "Rounded: tensor([[0.],\n",
            "        [0.],\n",
            "        [0.],\n",
            "        [1.]])\n"
          ]
        }
      ],
      "source": [
        "import torch\n",
        "import torch.nn as nn\n",
        "import torch.optim as optim\n",
        "\n",
        "# Data\n",
        "X = torch.tensor([[0,0], [0,1], [1,0], [1,1]], dtype=torch.float)\n",
        "y = torch.tensor([[0], [1], [1], [0]], dtype=torch.float)\n",
        "\n",
        "# Single layer model\n",
        "model = nn.Linear(2,1)\n",
        "criterion = nn.MSELoss()\n",
        "optimizer = optim.SGD(model.parameters(), lr=0.1)\n",
        "\n",
        "# Train for 1000 epochs\n",
        "for epoch in range(1000):\n",
        "    optimizer.zero_grad()\n",
        "    output = model(X)\n",
        "    loss = criterion(output, y)\n",
        "    loss.backward()\n",
        "    optimizer.step()\n",
        "\n",
        "# Predictions\n",
        "with torch.no_grad():\n",
        "    pred = model(X)\n",
        "    print(\"Predictions:\", pred)\n",
        "    print(\"Rounded:\", (pred > 0.5).float())"
      ]
    },
    {
      "cell_type": "markdown",
      "source": [
        "See? It doesn't match [0,1,1,0]. Wrong on some."
      ],
      "metadata": {
        "id": "x_jtXlOzhnHc"
      }
    },
    {
      "cell_type": "markdown",
      "source": [
        "Multi-Layer Success"
      ],
      "metadata": {
        "id": "QJdu0UN9huy9"
      }
    },
    {
      "cell_type": "code",
      "source": [
        "import torch\n",
        "from torch import nn\n",
        "from torch import optim\n",
        "\n",
        "# 1. Define XOR inputs and targets\n",
        "# Inputs are [0,0], [0,1], [1,0], [1,1]\n",
        "# Targets are [0], [1], [1], [0]\n",
        "xor_inputs = torch.tensor([[0,0],[0,1],[1,0],[1,1]], dtype=torch.float32)\n",
        "xor_targets = torch.tensor([[0],[1],[1],[0]], dtype=torch.float32)\n",
        "\n",
        "# 2. Define the MLP model\n",
        "class XORModel(nn.Module):\n",
        "    def __init__(self):\n",
        "        super().__init__()\n",
        "        self.hidden_layer = nn.Linear(2, 4) # 2 input features, 4 hidden units\n",
        "        self.relu = nn.ReLU()\n",
        "        self.output_layer = nn.Linear(4, 1) # 4 hidden units, 1 output\n",
        "        self.sigmoid = nn.Sigmoid() # Sigmoid for binary output (0 or 1)\n",
        "\n",
        "    def forward(self, x):\n",
        "        x = self.hidden_layer(x)\n",
        "        x = self.relu(x)\n",
        "        x = self.output_layer(x)\n",
        "        x = self.sigmoid(x)\n",
        "        return x\n",
        "\n",
        "# Instantiate the model, loss function, and optimizer\n",
        "model = XORModel()\n",
        "criterion = nn.BCELoss() # Binary Cross Entropy Loss\n",
        "optimizer = optim.Adam(model.parameters(), lr=0.01)\n",
        "\n",
        "# 3. Train the model\n",
        "epochs = 10000\n",
        "for epoch in range(epochs):\n",
        "    # Forward pass\n",
        "    outputs = model(xor_inputs)\n",
        "    loss = criterion(outputs, xor_targets)\n",
        "\n",
        "    # Backward pass and optimization\n",
        "    optimizer.zero_grad()\n",
        "    loss.backward()\n",
        "    optimizer.step()\n",
        "\n",
        "    if (epoch + 1) % 1000 == 0:\n",
        "        print(f'Epoch [{epoch+1}/{epochs}], Loss: {loss.item():.4f}')\n",
        "\n",
        "# 4. Test the model\n",
        "with torch.no_grad():\n",
        "    predicted = model(xor_inputs)\n",
        "    # Apply threshold to get binary predictions\n",
        "    predicted_class = (predicted > 0.5).int()\n",
        "\n",
        "    print(\"\\nPredictions after training:\")\n",
        "    for i in range(len(xor_inputs)):\n",
        "        print(f\"Input: {xor_inputs[i].tolist()}, Target: {int(xor_targets[i].item())}, Predicted: {predicted_class[i].item()}\")\n"
      ],
      "metadata": {
        "colab": {
          "base_uri": "https://localhost:8080/"
        },
        "id": "H9PJN02QlRCy",
        "outputId": "34cd2b57-3688-47a2-face-7d234173bae0"
      },
      "execution_count": 2,
      "outputs": [
        {
          "output_type": "stream",
          "name": "stdout",
          "text": [
            "Epoch [1000/10000], Loss: 0.0089\n",
            "Epoch [2000/10000], Loss: 0.0021\n",
            "Epoch [3000/10000], Loss: 0.0008\n",
            "Epoch [4000/10000], Loss: 0.0004\n",
            "Epoch [5000/10000], Loss: 0.0002\n",
            "Epoch [6000/10000], Loss: 0.0001\n",
            "Epoch [7000/10000], Loss: 0.0001\n",
            "Epoch [8000/10000], Loss: 0.0000\n",
            "Epoch [9000/10000], Loss: 0.0000\n",
            "Epoch [10000/10000], Loss: 0.0000\n",
            "\n",
            "Predictions after training:\n",
            "Input: [0.0, 0.0], Target: 0, Predicted: 0\n",
            "Input: [0.0, 1.0], Target: 1, Predicted: 1\n",
            "Input: [1.0, 0.0], Target: 1, Predicted: 1\n",
            "Input: [1.0, 1.0], Target: 0, Predicted: 0\n"
          ]
        }
      ]
    },
    {
      "cell_type": "markdown",
      "source": [
        "Perfect match! The hidden layer makes the difference."
      ],
      "metadata": {
        "id": "Oarh_crclaN1"
      }
    }
  ]
}