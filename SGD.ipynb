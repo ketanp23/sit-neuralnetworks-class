{
  "nbformat": 4,
  "nbformat_minor": 0,
  "metadata": {
    "colab": {
      "provenance": [],
      "authorship_tag": "ABX9TyM50VWgD3aRPqvsnc8gh8iA",
      "include_colab_link": true
    },
    "kernelspec": {
      "name": "python3",
      "display_name": "Python 3"
    },
    "language_info": {
      "name": "python"
    }
  },
  "cells": [
    {
      "cell_type": "markdown",
      "metadata": {
        "id": "view-in-github",
        "colab_type": "text"
      },
      "source": [
        "<a href=\"https://colab.research.google.com/github/ketanp23/sit-neuralnetworks-class/blob/main/SGD.ipynb\" target=\"_parent\"><img src=\"https://colab.research.google.com/assets/colab-badge.svg\" alt=\"Open In Colab\"/></a>"
      ]
    },
    {
      "cell_type": "markdown",
      "source": [
        "Same function f(x) = x², but pretend we have \"data points\" approximating it.\n",
        "Run it multiple times—results fluctuate due to noise, mimicking real data variability."
      ],
      "metadata": {
        "id": "YXIf6VlnJUJJ"
      }
    },
    {
      "cell_type": "code",
      "execution_count": 12,
      "metadata": {
        "colab": {
          "base_uri": "https://localhost:8080/"
        },
        "id": "dqmE2lJzJH5r",
        "outputId": "4d3dd3d5-50cb-4dad-a195-3cf3cc27f1f3"
      },
      "outputs": [
        {
          "output_type": "stream",
          "name": "stdout",
          "text": [
            "Approximate minimum with SGD: 0.6592017670928642\n"
          ]
        }
      ],
      "source": [
        "import numpy as np\n",
        "\n",
        "def sgd(starting_x, learning_rate=0.01, iterations=100):\n",
        "    x = starting_x\n",
        "    for _ in range(iterations):\n",
        "        # Simulate \"stochastic\" by adding a bit of noise to gradient\n",
        "        gradient = 2 * x + np.random.normal(0, 0.1)  # Noisy derivative\n",
        "        x = x - learning_rate * gradient\n",
        "    return x\n",
        "\n",
        "# Run it\n",
        "start_x = 5\n",
        "minimum = sgd(start_x)\n",
        "print(\"Approximate minimum with SGD:\", minimum)  # Close to 0, but varies"
      ]
    },
    {
      "cell_type": "code",
      "source": [],
      "metadata": {
        "id": "GIVZyspsJWMy"
      },
      "execution_count": null,
      "outputs": []
    }
  ]
}